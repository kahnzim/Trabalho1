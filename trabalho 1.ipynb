{
  "nbformat": 4,
  "nbformat_minor": 0,
  "metadata": {
    "colab": {
      "provenance": []
    },
    "kernelspec": {
      "name": "python3",
      "display_name": "Python 3"
    },
    "language_info": {
      "name": "python"
    }
  },
  "cells": [
    {
      "cell_type": "code",
      "source": [
        "from ydata_profiling import ProfileReport\n",
        "from sklearn.compose import make_column_selector as selector"
      ],
      "metadata": {
        "id": "aUpgOqIwIxh6"
      },
      "execution_count": 124,
      "outputs": []
    },
    {
      "cell_type": "code",
      "source": [
        "import pandas as pd\n",
        "import numpy as np"
      ],
      "metadata": {
        "id": "mDmJ-G-MIJbE"
      },
      "execution_count": 125,
      "outputs": []
    },
    {
      "cell_type": "code",
      "source": [
        "df = pd.read_excel('1.xls')"
      ],
      "metadata": {
        "id": "h1ySwhfrFNH7"
      },
      "execution_count": 126,
      "outputs": []
    },
    {
      "cell_type": "code",
      "source": [
        "num_colunas = df.shape[1]\n",
        "print(f\"numero de colunas:{num_colunas}.\")"
      ],
      "metadata": {
        "colab": {
          "base_uri": "https://localhost:8080/"
        },
        "id": "HN3ixNzUFRam",
        "outputId": "99d9f59f-ce4b-491b-98ac-d177a72044f8"
      },
      "execution_count": 127,
      "outputs": [
        {
          "output_type": "stream",
          "name": "stdout",
          "text": [
            "numero de colunas:25.\n"
          ]
        }
      ]
    },
    {
      "cell_type": "code",
      "source": [
        "num_linhas = df.shape[0]\n",
        "print(f\"numero de linhas: {num_linhas}.\")"
      ],
      "metadata": {
        "colab": {
          "base_uri": "https://localhost:8080/"
        },
        "id": "41mIyJvoFcE4",
        "outputId": "5bb03292-e56e-405a-8d5c-f54fc968a291"
      },
      "execution_count": 128,
      "outputs": [
        {
          "output_type": "stream",
          "name": "stdout",
          "text": [
            "numero de linhas: 30000.\n"
          ]
        }
      ]
    },
    {
      "cell_type": "code",
      "source": [
        "def classificar_colunas(df, limite=15, colunas_excluidas=['ID']):\n",
        "    resultado = {}\n",
        "    for coluna in df.columns:\n",
        "        if coluna in colunas_excluidas:\n",
        "            continue\n",
        "        if df[coluna].nunique() <= limite and pd.api.types.is_numeric_dtype(df[coluna]):\n",
        "            resultado[coluna] = \"Categórica\"\n",
        "        else:\n",
        "            resultado[coluna] = \"Numérica\"\n",
        "    return resultado\n",
        "classificacao = classificar_colunas(df)\n",
        "for coluna, tipo in classificacao.items():\n",
        "    print(f\"{coluna:<25} → {tipo}\")"
      ],
      "metadata": {
        "colab": {
          "base_uri": "https://localhost:8080/"
        },
        "id": "d58ogpIbFb-o",
        "outputId": "34bcd73f-4aaa-4e3e-912d-5b42fab075d4"
      },
      "execution_count": 129,
      "outputs": [
        {
          "output_type": "stream",
          "name": "stdout",
          "text": [
            "LIMIT_BAL                 → Numérica\n",
            "SEX                       → Categórica\n",
            "EDUCATION                 → Categórica\n",
            "MARRIAGE                  → Categórica\n",
            "AGE                       → Numérica\n",
            "PAY_1                     → Numérica\n",
            "PAY_2                     → Categórica\n",
            "PAY_3                     → Categórica\n",
            "PAY_4                     → Categórica\n",
            "PAY_5                     → Categórica\n",
            "PAY_6                     → Categórica\n",
            "BILL_AMT1                 → Numérica\n",
            "BILL_AMT2                 → Numérica\n",
            "BILL_AMT3                 → Numérica\n",
            "BILL_AMT4                 → Numérica\n",
            "BILL_AMT5                 → Numérica\n",
            "BILL_AMT6                 → Numérica\n",
            "PAY_AMT1                  → Numérica\n",
            "PAY_AMT2                  → Numérica\n",
            "PAY_AMT3                  → Numérica\n",
            "PAY_AMT4                  → Numérica\n",
            "PAY_AMT5                  → Numérica\n",
            "PAY_AMT6                  → Numérica\n",
            "default payment next month → Categórica\n"
          ]
        }
      ]
    },
    {
      "cell_type": "code",
      "source": [
        "print(\"Numéricas:\")\n",
        "numéricas = [col for col, tipo in classificacao.items() if tipo == \"Numérica\"]\n",
        "df[numéricas] = df[numéricas].apply(pd.to_numeric, errors='coerce')\n",
        "print(df[numéricas].apply(lambda x: x[(x != 0) & (x.notna())].describe()).round(2))"
      ],
      "metadata": {
        "colab": {
          "base_uri": "https://localhost:8080/"
        },
        "id": "tmFfuXm7Fb42",
        "outputId": "b6494ff6-e045-41e4-ace6-36022f0dc985"
      },
      "execution_count": 130,
      "outputs": [
        {
          "output_type": "stream",
          "name": "stdout",
          "text": [
            "Numéricas:\n",
            "        LIMIT_BAL       AGE     PAY_1  BILL_AMT1  BILL_AMT2   BILL_AMT3  \\\n",
            "count    29685.00  29685.00  13577.00   27693.00   27209.00    26843.00   \n",
            "mean    167519.95     35.48     -0.03   54865.93   53612.06    51965.90   \n",
            "std     129716.48      9.21      1.58   74841.10   72623.04    71081.61   \n",
            "min      10000.00     21.00     -2.00 -165580.00  -69777.00  -157264.00   \n",
            "25%      50000.00     28.00     -1.00    6059.00    6232.00     6574.00   \n",
            "50%     140000.00     34.00     -1.00   26708.00   26831.00    25945.00   \n",
            "75%     240000.00     41.00      1.00   72034.00   70276.00    68005.00   \n",
            "max    1000000.00     79.00      8.00  964511.00  983931.00  1664089.00   \n",
            "\n",
            "       BILL_AMT4  BILL_AMT5  BILL_AMT6   PAY_AMT1    PAY_AMT2   PAY_AMT3  \\\n",
            "count   26520.00   26214.00   25706.00   24496.00    24337.00   23777.00   \n",
            "mean    48406.52   45644.77   44908.21    6874.58     7217.91    6528.65   \n",
            "std     66142.05   62775.38   61887.34   18064.75    25334.60   19505.49   \n",
            "min   -170000.00  -81334.00 -339603.00       1.00        1.00       1.00   \n",
            "25%      6577.00    5962.00    5427.50    1610.00     1503.00    1202.00   \n",
            "50%     23448.00   21336.50   20833.00    3000.00     3000.00    2500.00   \n",
            "75%     62609.00   58544.25   57504.25    6005.25     6000.00    5280.00   \n",
            "max    891586.00  927171.00  961664.00  873552.00  1684259.00  896040.00   \n",
            "\n",
            "        PAY_AMT4   PAY_AMT5   PAY_AMT6  \n",
            "count   23340.00   23045.00   22584.00  \n",
            "mean     6138.93    6189.74    6860.02  \n",
            "std     17371.03   17129.99   20127.91  \n",
            "min         1.00       1.00       1.00  \n",
            "25%      1000.00    1000.00    1000.00  \n",
            "50%      2204.00    2300.00    2386.50  \n",
            "75%      5000.00    5000.00    5002.00  \n",
            "max    621000.00  426529.00  528666.00  \n"
          ]
        }
      ]
    },
    {
      "cell_type": "code",
      "source": [
        "print(\"Categóricas\")\n",
        "categóricas = [col for col, tipo in classificacao.items() if tipo == \"Categórica\"]\n",
        "\n",
        "for col in categóricas:\n",
        "    print(f\"\\n{col}:\")\n",
        "    counts = df[col][df[col] != 0].value_counts(normalize=True).round(2)\n",
        "    print(counts)"
      ],
      "metadata": {
        "colab": {
          "base_uri": "https://localhost:8080/"
        },
        "id": "wqFAismGFboL",
        "outputId": "c687b86b-5230-4403-d531-b102b6118d79"
      },
      "execution_count": 131,
      "outputs": [
        {
          "output_type": "stream",
          "name": "stdout",
          "text": [
            "Categóricas\n",
            "\n",
            "SEX:\n",
            "SEX\n",
            "2    0.6\n",
            "1    0.4\n",
            "Name: proportion, dtype: float64\n",
            "\n",
            "EDUCATION:\n",
            "EDUCATION\n",
            "2    0.47\n",
            "1    0.35\n",
            "3    0.16\n",
            "5    0.01\n",
            "4    0.00\n",
            "6    0.00\n",
            "Name: proportion, dtype: float64\n",
            "\n",
            "MARRIAGE:\n",
            "MARRIAGE\n",
            "2    0.53\n",
            "1    0.46\n",
            "3    0.01\n",
            "Name: proportion, dtype: float64\n",
            "\n",
            "PAY_2:\n",
            "PAY_2\n",
            "-1    0.42\n",
            " 2    0.27\n",
            "-2    0.27\n",
            " 3    0.02\n",
            " 4    0.01\n",
            " 1    0.00\n",
            " 5    0.00\n",
            " 7    0.00\n",
            " 6    0.00\n",
            " 8    0.00\n",
            "Name: proportion, dtype: float64\n",
            "\n",
            "PAY_3:\n",
            "PAY_3\n",
            "-1    0.42\n",
            "-2    0.29\n",
            " 2    0.27\n",
            " 3    0.02\n",
            " 4    0.01\n",
            " 7    0.00\n",
            " 6    0.00\n",
            " 5    0.00\n",
            " 1    0.00\n",
            " 8    0.00\n",
            "Name: proportion, dtype: float64\n",
            "\n",
            "PAY_4:\n",
            "PAY_4\n",
            "-1    0.42\n",
            "-2    0.32\n",
            " 2    0.23\n",
            " 3    0.01\n",
            " 4    0.00\n",
            " 7    0.00\n",
            " 5    0.00\n",
            " 6    0.00\n",
            " 1    0.00\n",
            " 8    0.00\n",
            "Name: proportion, dtype: float64\n",
            "\n",
            "PAY_5:\n",
            "PAY_5\n",
            "-1    0.42\n",
            "-2    0.35\n",
            " 2    0.20\n",
            " 3    0.01\n",
            " 4    0.01\n",
            " 7    0.00\n",
            " 5    0.00\n",
            " 6    0.00\n",
            " 8    0.00\n",
            "Name: proportion, dtype: float64\n",
            "\n",
            "PAY_6:\n",
            "PAY_6\n",
            "-1    0.42\n",
            "-2    0.36\n",
            " 2    0.20\n",
            " 3    0.01\n",
            " 4    0.00\n",
            " 7    0.00\n",
            " 6    0.00\n",
            " 5    0.00\n",
            " 8    0.00\n",
            "Name: proportion, dtype: float64\n",
            "\n",
            "default payment next month:\n",
            "default payment next month\n",
            "1    1.0\n",
            "Name: proportion, dtype: float64\n"
          ]
        }
      ]
    },
    {
      "cell_type": "code",
      "source": [
        "contagem = (df.drop(columns='ID') == 0).fillna(0).eq(0).all(axis=1).sum()\n",
        "print(f\"Total de linhas sem nenhuma informação relevante(excluindo ID): {contagem}\")"
      ],
      "metadata": {
        "colab": {
          "base_uri": "https://localhost:8080/"
        },
        "id": "SrCieE9bVOd2",
        "outputId": "4a9568f8-d119-480b-f874-7bc57c641b86"
      },
      "execution_count": 132,
      "outputs": [
        {
          "output_type": "stream",
          "name": "stdout",
          "text": [
            "Total de linhas sem nenhuma informação relevante(excluindo ID): 403\n"
          ]
        }
      ]
    }
  ]
}